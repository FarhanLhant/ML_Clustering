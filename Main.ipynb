{
  "nbformat": 4,
  "nbformat_minor": 0,
  "metadata": {
    "colab": {
      "name": "1301180432_MuhammadSalmanFarhan.ipynb",
      "provenance": [],
      "collapsed_sections": [],
      "toc_visible": true
    },
    "kernelspec": {
      "name": "python3",
      "display_name": "Python 3"
    },
    "language_info": {
      "name": "python"
    }
  },
  "cells": [
    {
      "cell_type": "code",
      "metadata": {
        "id": "6X344xSL29mD"
      },
      "source": [
        "import numpy as np\n",
        "import pandas as pd\n",
        "import matplotlib.pyplot as plt\n",
        "from sklearn.preprocessing import MinMaxScaler\n",
        "from sklearn.cluster import KMeans\n"
      ],
      "execution_count": 1,
      "outputs": []
    },
    {
      "cell_type": "code",
      "metadata": {
        "colab": {
          "base_uri": "https://localhost:8080/",
          "height": 217
        },
        "id": "kM2OgBWP3cV5",
        "outputId": "2e359261-4d3d-4bf0-d4c3-bcd4bc1a5473"
      },
      "source": [
        "df_train = pd.read_csv(\"salju_train.csv\")\n",
        "df_train.head()"
      ],
      "execution_count": 2,
      "outputs": [
        {
          "output_type": "execute_result",
          "data": {
            "text/html": [
              "<div>\n",
              "<style scoped>\n",
              "    .dataframe tbody tr th:only-of-type {\n",
              "        vertical-align: middle;\n",
              "    }\n",
              "\n",
              "    .dataframe tbody tr th {\n",
              "        vertical-align: top;\n",
              "    }\n",
              "\n",
              "    .dataframe thead th {\n",
              "        text-align: right;\n",
              "    }\n",
              "</style>\n",
              "<table border=\"1\" class=\"dataframe\">\n",
              "  <thead>\n",
              "    <tr style=\"text-align: right;\">\n",
              "      <th></th>\n",
              "      <th>id</th>\n",
              "      <th>Tanggal</th>\n",
              "      <th>KodeLokasi</th>\n",
              "      <th>SuhuMin</th>\n",
              "      <th>SuhuMax</th>\n",
              "      <th>Hujan</th>\n",
              "      <th>Penguapan</th>\n",
              "      <th>SinarMatahari</th>\n",
              "      <th>ArahAnginTerkencang</th>\n",
              "      <th>KecepatanAnginTerkencang</th>\n",
              "      <th>ArahAngin9am</th>\n",
              "      <th>ArahAngin3pm</th>\n",
              "      <th>KecepatanAngin9am</th>\n",
              "      <th>KecepatanAngin3pm</th>\n",
              "      <th>Kelembaban9am</th>\n",
              "      <th>Kelembaban3pm</th>\n",
              "      <th>Tekanan9am</th>\n",
              "      <th>Tekanan3pm</th>\n",
              "      <th>Awan9am</th>\n",
              "      <th>Awan3pm</th>\n",
              "      <th>Suhu9am</th>\n",
              "      <th>Suhu3pm</th>\n",
              "      <th>BersaljuHariIni</th>\n",
              "      <th>BersaljuBesok</th>\n",
              "    </tr>\n",
              "  </thead>\n",
              "  <tbody>\n",
              "    <tr>\n",
              "      <th>0</th>\n",
              "      <td>1</td>\n",
              "      <td>01/06/2014</td>\n",
              "      <td>C4</td>\n",
              "      <td>10.4</td>\n",
              "      <td>15.5</td>\n",
              "      <td>4.8</td>\n",
              "      <td>NaN</td>\n",
              "      <td>NaN</td>\n",
              "      <td>WSW</td>\n",
              "      <td>24.0</td>\n",
              "      <td>NaN</td>\n",
              "      <td>WSW</td>\n",
              "      <td>0.0</td>\n",
              "      <td>13.0</td>\n",
              "      <td>78.0</td>\n",
              "      <td>76.0</td>\n",
              "      <td>1020.1</td>\n",
              "      <td>1018.5</td>\n",
              "      <td>NaN</td>\n",
              "      <td>NaN</td>\n",
              "      <td>13.1</td>\n",
              "      <td>15.0</td>\n",
              "      <td>Ya</td>\n",
              "      <td>Tidak</td>\n",
              "    </tr>\n",
              "    <tr>\n",
              "      <th>1</th>\n",
              "      <td>2</td>\n",
              "      <td>15/07/2014</td>\n",
              "      <td>C10</td>\n",
              "      <td>9.0</td>\n",
              "      <td>17.0</td>\n",
              "      <td>8.0</td>\n",
              "      <td>2.6</td>\n",
              "      <td>7.4</td>\n",
              "      <td>NaN</td>\n",
              "      <td>NaN</td>\n",
              "      <td>SW</td>\n",
              "      <td>WNW</td>\n",
              "      <td>13.0</td>\n",
              "      <td>20.0</td>\n",
              "      <td>80.0</td>\n",
              "      <td>61.0</td>\n",
              "      <td>1015.2</td>\n",
              "      <td>1014.6</td>\n",
              "      <td>7.0</td>\n",
              "      <td>5.0</td>\n",
              "      <td>11.9</td>\n",
              "      <td>15.5</td>\n",
              "      <td>Ya</td>\n",
              "      <td>Ya</td>\n",
              "    </tr>\n",
              "    <tr>\n",
              "      <th>2</th>\n",
              "      <td>3</td>\n",
              "      <td>16/02/2011</td>\n",
              "      <td>C46</td>\n",
              "      <td>18.2</td>\n",
              "      <td>32.0</td>\n",
              "      <td>0.0</td>\n",
              "      <td>NaN</td>\n",
              "      <td>NaN</td>\n",
              "      <td>ESE</td>\n",
              "      <td>44.0</td>\n",
              "      <td>SE</td>\n",
              "      <td>SE</td>\n",
              "      <td>15.0</td>\n",
              "      <td>26.0</td>\n",
              "      <td>62.0</td>\n",
              "      <td>42.0</td>\n",
              "      <td>NaN</td>\n",
              "      <td>NaN</td>\n",
              "      <td>NaN</td>\n",
              "      <td>NaN</td>\n",
              "      <td>23.8</td>\n",
              "      <td>29.6</td>\n",
              "      <td>Tidak</td>\n",
              "      <td>Tidak</td>\n",
              "    </tr>\n",
              "    <tr>\n",
              "      <th>3</th>\n",
              "      <td>4</td>\n",
              "      <td>08/08/2012</td>\n",
              "      <td>C36</td>\n",
              "      <td>7.3</td>\n",
              "      <td>24.5</td>\n",
              "      <td>0.0</td>\n",
              "      <td>8.4</td>\n",
              "      <td>10.4</td>\n",
              "      <td>SSW</td>\n",
              "      <td>54.0</td>\n",
              "      <td>N</td>\n",
              "      <td>SW</td>\n",
              "      <td>13.0</td>\n",
              "      <td>19.0</td>\n",
              "      <td>25.0</td>\n",
              "      <td>17.0</td>\n",
              "      <td>1019.2</td>\n",
              "      <td>1016.9</td>\n",
              "      <td>1.0</td>\n",
              "      <td>7.0</td>\n",
              "      <td>15.3</td>\n",
              "      <td>23.2</td>\n",
              "      <td>Tidak</td>\n",
              "      <td>Tidak</td>\n",
              "    </tr>\n",
              "    <tr>\n",
              "      <th>4</th>\n",
              "      <td>5</td>\n",
              "      <td>29/10/2016</td>\n",
              "      <td>C7</td>\n",
              "      <td>5.9</td>\n",
              "      <td>20.3</td>\n",
              "      <td>0.0</td>\n",
              "      <td>3.6</td>\n",
              "      <td>12.6</td>\n",
              "      <td>N</td>\n",
              "      <td>37.0</td>\n",
              "      <td>NNW</td>\n",
              "      <td>ESE</td>\n",
              "      <td>22.0</td>\n",
              "      <td>19.0</td>\n",
              "      <td>55.0</td>\n",
              "      <td>48.0</td>\n",
              "      <td>1019.7</td>\n",
              "      <td>1014.7</td>\n",
              "      <td>2.0</td>\n",
              "      <td>6.0</td>\n",
              "      <td>12.4</td>\n",
              "      <td>18.1</td>\n",
              "      <td>Tidak</td>\n",
              "      <td>Tidak</td>\n",
              "    </tr>\n",
              "  </tbody>\n",
              "</table>\n",
              "</div>"
            ],
            "text/plain": [
              "   id     Tanggal KodeLokasi  ...  Suhu3pm  BersaljuHariIni  BersaljuBesok\n",
              "0   1  01/06/2014         C4  ...     15.0               Ya          Tidak\n",
              "1   2  15/07/2014        C10  ...     15.5               Ya             Ya\n",
              "2   3  16/02/2011        C46  ...     29.6            Tidak          Tidak\n",
              "3   4  08/08/2012        C36  ...     23.2            Tidak          Tidak\n",
              "4   5  29/10/2016         C7  ...     18.1            Tidak          Tidak\n",
              "\n",
              "[5 rows x 24 columns]"
            ]
          },
          "metadata": {
            "tags": []
          },
          "execution_count": 2
        }
      ]
    },
    {
      "cell_type": "markdown",
      "metadata": {
        "id": "DKRW5CX8fae4"
      },
      "source": [
        "#Cleansing Data"
      ]
    },
    {
      "cell_type": "code",
      "metadata": {
        "id": "V5ZM6sGc30FH"
      },
      "source": [
        "df_train = df_train.drop([\"Tanggal\",\"KodeLokasi\",\"SuhuMin\",\"SuhuMax\", \"Penguapan\", \"ArahAnginTerkencang\", \"KecepatanAnginTerkencang\", \"ArahAngin9am\", \"ArahAngin3pm\", \"KecepatanAngin9am\", \"KecepatanAngin3pm\",\n",
        "              \"Kelembaban9am\", \"Kelembaban3pm\", \"Tekanan9am\", \"Tekanan3pm\", \"Awan9am\", \"Suhu9am\", \"BersaljuHariIni\",\"BersaljuBesok\"], axis = 1)\n"
      ],
      "execution_count": 3,
      "outputs": []
    },
    {
      "cell_type": "code",
      "metadata": {
        "colab": {
          "base_uri": "https://localhost:8080/",
          "height": 197
        },
        "id": "BlZUxixaG2k_",
        "outputId": "b1ce2242-924c-44bc-dfe8-1d743c5c896e"
      },
      "source": [
        "df_train['Suhu3pm'] = df_train['Suhu3pm'].fillna(df_train['Suhu3pm'].mean())\n",
        "df_train['Hujan'] = df_train['Hujan'].fillna(df_train['Hujan'].mean())\n",
        "df_train['SinarMatahari'] = df_train['SinarMatahari'].fillna(df_train['SinarMatahari'].mean())\n",
        "df_train['Awan3pm'] = df_train['Awan3pm'].fillna(df_train['Awan3pm'].mean())\n",
        "df_train.head()"
      ],
      "execution_count": 4,
      "outputs": [
        {
          "output_type": "execute_result",
          "data": {
            "text/html": [
              "<div>\n",
              "<style scoped>\n",
              "    .dataframe tbody tr th:only-of-type {\n",
              "        vertical-align: middle;\n",
              "    }\n",
              "\n",
              "    .dataframe tbody tr th {\n",
              "        vertical-align: top;\n",
              "    }\n",
              "\n",
              "    .dataframe thead th {\n",
              "        text-align: right;\n",
              "    }\n",
              "</style>\n",
              "<table border=\"1\" class=\"dataframe\">\n",
              "  <thead>\n",
              "    <tr style=\"text-align: right;\">\n",
              "      <th></th>\n",
              "      <th>id</th>\n",
              "      <th>Hujan</th>\n",
              "      <th>SinarMatahari</th>\n",
              "      <th>Awan3pm</th>\n",
              "      <th>Suhu3pm</th>\n",
              "    </tr>\n",
              "  </thead>\n",
              "  <tbody>\n",
              "    <tr>\n",
              "      <th>0</th>\n",
              "      <td>1</td>\n",
              "      <td>4.8</td>\n",
              "      <td>7.599527</td>\n",
              "      <td>4.51614</td>\n",
              "      <td>15.0</td>\n",
              "    </tr>\n",
              "    <tr>\n",
              "      <th>1</th>\n",
              "      <td>2</td>\n",
              "      <td>8.0</td>\n",
              "      <td>7.400000</td>\n",
              "      <td>5.00000</td>\n",
              "      <td>15.5</td>\n",
              "    </tr>\n",
              "    <tr>\n",
              "      <th>2</th>\n",
              "      <td>3</td>\n",
              "      <td>0.0</td>\n",
              "      <td>7.599527</td>\n",
              "      <td>4.51614</td>\n",
              "      <td>29.6</td>\n",
              "    </tr>\n",
              "    <tr>\n",
              "      <th>3</th>\n",
              "      <td>4</td>\n",
              "      <td>0.0</td>\n",
              "      <td>10.400000</td>\n",
              "      <td>7.00000</td>\n",
              "      <td>23.2</td>\n",
              "    </tr>\n",
              "    <tr>\n",
              "      <th>4</th>\n",
              "      <td>5</td>\n",
              "      <td>0.0</td>\n",
              "      <td>12.600000</td>\n",
              "      <td>6.00000</td>\n",
              "      <td>18.1</td>\n",
              "    </tr>\n",
              "  </tbody>\n",
              "</table>\n",
              "</div>"
            ],
            "text/plain": [
              "   id  Hujan  SinarMatahari  Awan3pm  Suhu3pm\n",
              "0   1    4.8       7.599527  4.51614     15.0\n",
              "1   2    8.0       7.400000  5.00000     15.5\n",
              "2   3    0.0       7.599527  4.51614     29.6\n",
              "3   4    0.0      10.400000  7.00000     23.2\n",
              "4   5    0.0      12.600000  6.00000     18.1"
            ]
          },
          "metadata": {
            "tags": []
          },
          "execution_count": 4
        }
      ]
    },
    {
      "cell_type": "markdown",
      "metadata": {
        "id": "VnJMNV-ich2J"
      },
      "source": [
        "#Preposition data"
      ]
    },
    {
      "cell_type": "code",
      "metadata": {
        "id": "1Ji-eOOgcnfx"
      },
      "source": [
        "scaler = MinMaxScaler()\n",
        "df_train = df_train.copy()\n",
        "df_train[\n",
        "    ['Suhu3pm','Hujan','SinarMatahari','Awan3pm']\n",
        "] = scaler.fit_transform(df_train[\n",
        "    ['Suhu3pm','Hujan','SinarMatahari','Awan3pm']\n",
        "])\n",
        "df_train = df_train"
      ],
      "execution_count": 5,
      "outputs": []
    },
    {
      "cell_type": "markdown",
      "metadata": {
        "id": "M--WKRGORVqi"
      },
      "source": [
        "#Looking for the best K"
      ]
    },
    {
      "cell_type": "code",
      "metadata": {
        "colab": {
          "base_uri": "https://localhost:8080/",
          "height": 294
        },
        "id": "Hr4uxP62MlVf",
        "outputId": "7d555527-13ed-4931-a90a-820f87da1444"
      },
      "source": [
        "wcss=[]\n",
        "\n",
        "for i in range(1,11): \n",
        "     kmeans = KMeans(n_clusters=i, init ='k-means++', max_iter=300,  n_init=10,random_state=0 ) \n",
        "     kmeans.fit(df_train)\n",
        "     wcss.append(kmeans.inertia_)\n",
        "\n",
        "plt.plot(range(1,11),wcss)\n",
        "plt.title('The Elbow Method Graph')\n",
        "plt.xlabel('Number of clusters')\n",
        "plt.ylabel('WCSS')\n",
        "plt.show()"
      ],
      "execution_count": 6,
      "outputs": [
        {
          "output_type": "display_data",
          "data": {
            "image/png": "[encoded data removed]",
            "text/plain": [
              "<Figure size 432x288 with 1 Axes>"
            ]
          },
          "metadata": {
            "tags": [],
            "needs_background": "light"
          }
        }
      ]
    },
    {
      "cell_type": "markdown",
      "metadata": {
        "id": "Nyb0tm86Nolo"
      },
      "source": [
        "#Data Centroid\n"
      ]
    },
    {
      "cell_type": "code",
      "metadata": {
        "id": "u9sGRHkEZHRY"
      },
      "source": [
        "def euclidean_distance(x1, x2):\n",
        "    return np.sqrt(np.sum((x1 - x2) ** 2))"
      ],
      "execution_count": 7,
      "outputs": []
    },
    {
      "cell_type": "code",
      "metadata": {
        "id": "bdI6WFzuY3ma"
      },
      "source": [
        "class KMeansClustering:\n",
        "    def __init__ (self, K= 3, max_iters= 100, plot_steps= False):\n",
        "        self.K = K  \n",
        "        self.max_iters = max_iters\n",
        "        self.plot_steps = plot_steps\n",
        "\n",
        "        # list of lists containing the required number of clusters\n",
        "        self.clusters = [[] for _ in range(self.K)]\n",
        "        # mean feature vector for each cluster\n",
        "        self.centroids = []\n",
        "\n",
        "    # Function to predict the clusters for each datapoint\n",
        "    def predict(self, X):\n",
        "        self.X = X\n",
        "        self.n_samples, self.n_features = X.shape\n",
        "\n",
        "        # randomly initialising initial centroids\n",
        "        random_sample_indices = np.random.choice(self.n_samples, self.K, replace=False)\n",
        "        self.centroids = [self.X[index] for index in random_sample_indices]\n",
        "\n",
        "\n",
        "        # getting the optimal location of the centroids\n",
        "        for _ in range(self.max_iters):\n",
        "            # updating clusters\n",
        "            self.clusters = self._create_clusters(self.centroids)\n",
        "            if self.plot_steps:\n",
        "                self.plot()\n",
        "            # updating centroids \n",
        "            centroids_old = self.centroids\n",
        "            if self.plot_steps:\n",
        "                self.plot()\n",
        "            self.centroids = self._get_centroids(self.clusters)\n",
        "            # checking for convergence\n",
        "            if self._is_converged(centroids_old, self.centroids):\n",
        "                break\n",
        "\n",
        "        #return cluster labels \n",
        "        return self._get_cluster_labels(self.clusters)\n",
        "    \n",
        "    # helper function to get the labels for each cluster\n",
        "    def _get_cluster_labels(self, clusters):\n",
        "        labels = np.empty(self.n_samples)\n",
        "        for cluster_index, cluster in enumerate(clusters):\n",
        "            for sample_index in cluster:\n",
        "                labels[sample_index] = cluster_index\n",
        "        return labels\n",
        "    # helper function to create clusters\n",
        "    def _create_clusters(self, centroids):\n",
        "        clusters = [[] for _ in range(self.K)]\n",
        "        for index, sample in enumerate(self.X):\n",
        "            centroid_index = self._closest_centroid(sample, centroids)\n",
        "            clusters[centroid_index].append(index)\n",
        "        return clusters\n",
        "    \n",
        "    # helper function which finds the nearest centroid for each data point\n",
        "    # uses Euclidean distance\n",
        "    def _closest_centroid(self, sample, centroids):\n",
        "         distances = [euclidean_distance(sample, point) for point in centroids]\n",
        "         closes_index = np.argmin(distances)\n",
        "         return closes_index\n",
        "\n",
        "    # helper function to get the centroids of the created clusters    \n",
        "    def _get_centroids(self, clusters):\n",
        "        centroids = np.zeros((self.K, self.n_features))\n",
        "        for cluster_index, cluster in enumerate(clusters):\n",
        "            cluster_mean = np.mean(self.X[cluster], axis= 0)\n",
        "            centroids[cluster_index] = cluster_mean\n",
        "        return centroids \n",
        "    \n",
        "    # function that checks whether the centoroids change after each round of iteration\n",
        "    def _is_converged(self, centroids_old, centroids):\n",
        "        distances = [euclidean_distance(centroids_old[i], centroids[i]) for i in range(self.K)]\n",
        "        return sum(distances) == 0\n",
        "    \n",
        "    # function to plot the final clusters\n",
        "    def plot(self):\n",
        "        fig, ax = plt.subplots(figsize= (8, 6))\n",
        "\n",
        "        for i, index in enumerate(self.clusters):\n",
        "            point = self.X[index].T\n",
        "            ax.scatter(*point)\n",
        "\n",
        "        for point in self.centroids:\n",
        "            ax.scatter(*point, marker= \"x\", color= 'black', linewidth= 2)\n",
        "        \n",
        "        plt.show()"
      ],
      "execution_count": 8,
      "outputs": []
    },
    {
      "cell_type": "code",
      "metadata": {
        "colab": {
          "base_uri": "https://localhost:8080/"
        },
        "id": "6_YCnyl8Dg8v",
        "outputId": "a0f5114d-c875-46ea-a4c0-387ce64129f8"
      },
      "source": [
        "df_train = df_train.head(2000)\n",
        "kmeans = KMeansClustering(K= 3)\n",
        "df_train = df_train.iloc[:, 3:].to_numpy()\n",
        "df_train.shape"
      ],
      "execution_count": 9,
      "outputs": [
        {
          "output_type": "execute_result",
          "data": {
            "text/plain": [
              "(2000, 2)"
            ]
          },
          "metadata": {
            "tags": []
          },
          "execution_count": 9
        }
      ]
    },
    {
      "cell_type": "code",
      "metadata": {
        "colab": {
          "base_uri": "https://localhost:8080/"
        },
        "id": "ZoywZUSJfa1f",
        "outputId": "3a7d76a4-df60-437e-8a47-358624e915cc"
      },
      "source": [
        "kmeans = KMeansClustering(K= 3)\n",
        "kmeans.predict(df_train)"
      ],
      "execution_count": 10,
      "outputs": [
        {
          "output_type": "execute_result",
          "data": {
            "text/plain": [
              "array([1., 1., 1., ..., 1., 2., 0.])"
            ]
          },
          "metadata": {
            "tags": []
          },
          "execution_count": 10
        }
      ]
    },
    {
      "cell_type": "code",
      "metadata": {
        "colab": {
          "base_uri": "https://localhost:8080/",
          "height": 374
        },
        "id": "K-yEVI0xHAfb",
        "outputId": "6b5d6443-af29-4af8-c847-a571aa3be96a"
      },
      "source": [
        "kmeans.plot()"
      ],
      "execution_count": 11,
      "outputs": [
        {
          "output_type": "display_data",
          "data": {
            "image/png": "[encoded data removed]",
            "text/plain": [
              "<Figure size 576x432 with 1 Axes>"
            ]
          },
          "metadata": {
            "tags": [],
            "needs_background": "light"
          }
        }
      ]
    }
  ]
}